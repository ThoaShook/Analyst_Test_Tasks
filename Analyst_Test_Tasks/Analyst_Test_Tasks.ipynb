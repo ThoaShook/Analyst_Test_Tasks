{
 "cells": [
  {
   "cell_type": "markdown",
   "metadata": {},
   "source": [
    "##### Analyst Test -Part2:\n",
    "    1. Determine if the task is not completed\n",
    "    2. Define who the task is designed to\n",
    "    3. How the workload of the not completed tasks divided among the care coordinators\n",
    "    4. The average time to complete each category of task for the tasks created in 2018\n"
   ]
  },
  {
   "cell_type": "markdown",
   "metadata": {},
   "source": [
    "#### Workload of uncompleted tasks among Care Coordinators\n",
    "#### 1.a Determine if the task is not completed"
   ]
  },
  {
   "cell_type": "code",
   "execution_count": 60,
   "metadata": {},
   "outputs": [],
   "source": [
    "# Import pandas packages\n",
    "import pandas as pd\n",
    "import numpy as np\n",
    "import matplotlib.pyplot as plt\n",
    "%matplotlib inline\n",
    "import seaborn as sns"
   ]
  },
  {
   "cell_type": "code",
   "execution_count": 61,
   "metadata": {},
   "outputs": [
    {
     "data": {
      "text/html": [
       "<div>\n",
       "<style scoped>\n",
       "    .dataframe tbody tr th:only-of-type {\n",
       "        vertical-align: middle;\n",
       "    }\n",
       "\n",
       "    .dataframe tbody tr th {\n",
       "        vertical-align: top;\n",
       "    }\n",
       "\n",
       "    .dataframe thead th {\n",
       "        text-align: right;\n",
       "    }\n",
       "</style>\n",
       "<table border=\"1\" class=\"dataframe\">\n",
       "  <thead>\n",
       "    <tr style=\"text-align: right;\">\n",
       "      <th></th>\n",
       "      <th>Patient drchrono ID</th>\n",
       "      <th>Category</th>\n",
       "      <th>Status</th>\n",
       "      <th>Priority</th>\n",
       "      <th>Assigned To</th>\n",
       "      <th>Created on</th>\n",
       "      <th>Create by</th>\n",
       "      <th>Updated on</th>\n",
       "      <th>Next Appt Date</th>\n",
       "      <th>HC20 Status</th>\n",
       "      <th>HC20 Substatus</th>\n",
       "      <th>Stratification level</th>\n",
       "      <th>Last Appointment Date</th>\n",
       "    </tr>\n",
       "  </thead>\n",
       "  <tbody>\n",
       "    <tr>\n",
       "      <td>0</td>\n",
       "      <td>60094576</td>\n",
       "      <td>Specimen Collection</td>\n",
       "      <td>Complete</td>\n",
       "      <td>20</td>\n",
       "      <td>MOXXIadmin</td>\n",
       "      <td>2016-07-22T14:14:20</td>\n",
       "      <td>Neilsolomon</td>\n",
       "      <td>2018-03-28T21:14:32</td>\n",
       "      <td>NaN</td>\n",
       "      <td>NaN</td>\n",
       "      <td>NaN</td>\n",
       "      <td>NaN</td>\n",
       "      <td>2016-08-05 21:30:00</td>\n",
       "    </tr>\n",
       "    <tr>\n",
       "      <td>1</td>\n",
       "      <td>59946176</td>\n",
       "      <td>Phone Call</td>\n",
       "      <td>Complete</td>\n",
       "      <td>20</td>\n",
       "      <td>MOXXIadmin</td>\n",
       "      <td>2016-08-25T20:07:00</td>\n",
       "      <td>nsome</td>\n",
       "      <td>2018-03-28T21:14:32</td>\n",
       "      <td>2018-07-26T17:00:00.000Z</td>\n",
       "      <td>Enrolled</td>\n",
       "      <td>Scheduled</td>\n",
       "      <td>High</td>\n",
       "      <td>2018-06-20 21:30:00</td>\n",
       "    </tr>\n",
       "    <tr>\n",
       "      <td>2</td>\n",
       "      <td>59740292</td>\n",
       "      <td>Phone Call</td>\n",
       "      <td>Complete</td>\n",
       "      <td>20</td>\n",
       "      <td>MOXXIadmin</td>\n",
       "      <td>2016-08-29T18:23:10</td>\n",
       "      <td>nsome</td>\n",
       "      <td>2018-03-28T21:14:32</td>\n",
       "      <td>2018-03-30T15:30:00.000Z</td>\n",
       "      <td>Disenrolled</td>\n",
       "      <td>Ineligible - insurance</td>\n",
       "      <td>NaN</td>\n",
       "      <td>2018-02-21 19:15:00</td>\n",
       "    </tr>\n",
       "    <tr>\n",
       "      <td>3</td>\n",
       "      <td>60121538</td>\n",
       "      <td>Phone Call</td>\n",
       "      <td>Complete</td>\n",
       "      <td>20</td>\n",
       "      <td>MOXXIadmin</td>\n",
       "      <td>2016-09-02T15:08:08</td>\n",
       "      <td>nsome</td>\n",
       "      <td>2018-03-28T21:14:32</td>\n",
       "      <td>NaN</td>\n",
       "      <td>Disenrolled</td>\n",
       "      <td>Ineligible - insurance</td>\n",
       "      <td>NaN</td>\n",
       "      <td>2018-03-13 16:55:00</td>\n",
       "    </tr>\n",
       "    <tr>\n",
       "      <td>4</td>\n",
       "      <td>60121538</td>\n",
       "      <td>NaN</td>\n",
       "      <td>Complete</td>\n",
       "      <td>20</td>\n",
       "      <td>MOXXIadmin</td>\n",
       "      <td>2016-09-06T08:54:44</td>\n",
       "      <td>nsome</td>\n",
       "      <td>2018-03-28T21:14:32</td>\n",
       "      <td>NaN</td>\n",
       "      <td>Disenrolled</td>\n",
       "      <td>Ineligible - insurance</td>\n",
       "      <td>NaN</td>\n",
       "      <td>2018-03-13 16:55:00</td>\n",
       "    </tr>\n",
       "  </tbody>\n",
       "</table>\n",
       "</div>"
      ],
      "text/plain": [
       "   Patient drchrono ID             Category    Status  Priority Assigned To  \\\n",
       "0             60094576  Specimen Collection  Complete        20  MOXXIadmin   \n",
       "1             59946176           Phone Call  Complete        20  MOXXIadmin   \n",
       "2             59740292           Phone Call  Complete        20  MOXXIadmin   \n",
       "3             60121538           Phone Call  Complete        20  MOXXIadmin   \n",
       "4             60121538                  NaN  Complete        20  MOXXIadmin   \n",
       "\n",
       "            Created on    Create by           Updated on  \\\n",
       "0  2016-07-22T14:14:20  Neilsolomon  2018-03-28T21:14:32   \n",
       "1  2016-08-25T20:07:00        nsome  2018-03-28T21:14:32   \n",
       "2  2016-08-29T18:23:10        nsome  2018-03-28T21:14:32   \n",
       "3  2016-09-02T15:08:08        nsome  2018-03-28T21:14:32   \n",
       "4  2016-09-06T08:54:44        nsome  2018-03-28T21:14:32   \n",
       "\n",
       "             Next Appt Date  HC20 Status          HC20 Substatus  \\\n",
       "0                       NaN          NaN                     NaN   \n",
       "1  2018-07-26T17:00:00.000Z     Enrolled               Scheduled   \n",
       "2  2018-03-30T15:30:00.000Z  Disenrolled  Ineligible - insurance   \n",
       "3                       NaN  Disenrolled  Ineligible - insurance   \n",
       "4                       NaN  Disenrolled  Ineligible - insurance   \n",
       "\n",
       "  Stratification level Last Appointment Date  \n",
       "0                  NaN   2016-08-05 21:30:00  \n",
       "1                 High   2018-06-20 21:30:00  \n",
       "2                  NaN   2018-02-21 19:15:00  \n",
       "3                  NaN   2018-03-13 16:55:00  \n",
       "4                  NaN   2018-03-13 16:55:00  "
      ]
     },
     "execution_count": 61,
     "metadata": {},
     "output_type": "execute_result"
    }
   ],
   "source": [
    "# Upload Analyst_Test_Tasks.csv\n",
    "tasks = pd.read_csv('Analyst_Test_Tasks.csv')\n",
    "tasks.head()"
   ]
  },
  {
   "cell_type": "code",
   "execution_count": 62,
   "metadata": {},
   "outputs": [
    {
     "name": "stdout",
     "output_type": "stream",
     "text": [
      "<class 'pandas.core.frame.DataFrame'>\n",
      "RangeIndex: 3659 entries, 0 to 3658\n",
      "Data columns (total 13 columns):\n",
      "Patient drchrono ID      3659 non-null int64\n",
      "Category                 3445 non-null object\n",
      "Status                   3659 non-null object\n",
      "Priority                 3659 non-null int64\n",
      "Assigned To              3598 non-null object\n",
      "Created on               3659 non-null object\n",
      "Create by                2961 non-null object\n",
      "Updated on               3659 non-null object\n",
      "Next Appt Date           2411 non-null object\n",
      "HC20 Status              3646 non-null object\n",
      "HC20 Substatus           3646 non-null object\n",
      "Stratification level     621 non-null object\n",
      "Last Appointment Date    3659 non-null object\n",
      "dtypes: int64(2), object(11)\n",
      "memory usage: 371.7+ KB\n"
     ]
    }
   ],
   "source": [
    "# Overview the info on tasks set\n",
    "tasks.info()"
   ]
  },
  {
   "cell_type": "code",
   "execution_count": 63,
   "metadata": {},
   "outputs": [
    {
     "data": {
      "text/plain": [
       "Patient drchrono ID         0\n",
       "Category                  214\n",
       "Status                      0\n",
       "Priority                    0\n",
       "Assigned To                61\n",
       "Created on                  0\n",
       "Create by                 698\n",
       "Updated on                  0\n",
       "Next Appt Date           1248\n",
       "HC20 Status                13\n",
       "HC20 Substatus             13\n",
       "Stratification level     3038\n",
       "Last Appointment Date       0\n",
       "dtype: int64"
      ]
     },
     "execution_count": 63,
     "metadata": {},
     "output_type": "execute_result"
    }
   ],
   "source": [
    "# Check for null value (NAN)\n",
    "tasks.isnull().sum()"
   ]
  },
  {
   "cell_type": "code",
   "execution_count": 64,
   "metadata": {},
   "outputs": [],
   "source": [
    "tasks.drop(['Stratification level', 'Next Appt Date','Create by'],axis =1, inplace=True)"
   ]
  },
  {
   "cell_type": "code",
   "execution_count": 65,
   "metadata": {},
   "outputs": [],
   "source": [
    "tasks.dropna(inplace=True)"
   ]
  },
  {
   "cell_type": "code",
   "execution_count": 66,
   "metadata": {},
   "outputs": [
    {
     "data": {
      "text/plain": [
       "Patient drchrono ID      0\n",
       "Category                 0\n",
       "Status                   0\n",
       "Priority                 0\n",
       "Assigned To              0\n",
       "Created on               0\n",
       "Updated on               0\n",
       "HC20 Status              0\n",
       "HC20 Substatus           0\n",
       "Last Appointment Date    0\n",
       "dtype: int64"
      ]
     },
     "execution_count": 66,
     "metadata": {},
     "output_type": "execute_result"
    }
   ],
   "source": [
    "tasks.isnull().sum()"
   ]
  },
  {
   "cell_type": "code",
   "execution_count": 67,
   "metadata": {},
   "outputs": [
    {
     "data": {
      "text/plain": [
       "Complete       2494\n",
       "In Progress     633\n",
       "Open            149\n",
       "On Hold          58\n",
       "Authorized       39\n",
       "Back to PCP       3\n",
       "Name: Status, dtype: int64"
      ]
     },
     "execution_count": 67,
     "metadata": {},
     "output_type": "execute_result"
    }
   ],
   "source": [
    "# Check how many categories in Status and the number of each category\n",
    "tasks['Status'].value_counts()"
   ]
  },
  {
   "cell_type": "markdown",
   "metadata": {},
   "source": [
    "####  List of Assignees for Tasks"
   ]
  },
  {
   "cell_type": "code",
   "execution_count": 68,
   "metadata": {},
   "outputs": [
    {
     "data": {
      "text/plain": [
       "MOXXIadmin          2317\n",
       "suzztasharma         203\n",
       "gblandon             189\n",
       "marlenegarcia        163\n",
       "CareCoordinators     110\n",
       "pvallejo             108\n",
       "aarreola              92\n",
       "darzate               68\n",
       "kelder                15\n",
       "aalmanza              15\n",
       "mdavis07              12\n",
       "cmathews              11\n",
       "kapostol               9\n",
       "ebenons                7\n",
       "HRubin                 7\n",
       "epopoca                6\n",
       "Neilsolomon            5\n",
       "nsome                  4\n",
       "stinajero              4\n",
       "hanzaldua              4\n",
       "ggardner               4\n",
       "mduarte                4\n",
       "hcolomer               3\n",
       "AmandaMay              3\n",
       "egragnani              2\n",
       "mariadperez            2\n",
       "GFedalizo              1\n",
       "CMiranda               1\n",
       "alexgerson             1\n",
       "cristianpacheco        1\n",
       "DanaLewis              1\n",
       "MyrnaGonzalez          1\n",
       "aglaros                1\n",
       "CSobrian               1\n",
       "mikejimenez            1\n",
       "Name: Assigned To, dtype: int64"
      ]
     },
     "execution_count": 68,
     "metadata": {},
     "output_type": "execute_result"
    }
   ],
   "source": [
    "# Check how many people are assigned to modify the dataset\n",
    "tasks['Assigned To'].value_counts()"
   ]
  },
  {
   "cell_type": "markdown",
   "metadata": {},
   "source": [
    "#### Most assignees are in Administration, followed by CareCoordinators"
   ]
  },
  {
   "cell_type": "markdown",
   "metadata": {},
   "source": [
    "#### Uncompleted Tasks List"
   ]
  },
  {
   "cell_type": "code",
   "execution_count": 69,
   "metadata": {},
   "outputs": [
    {
     "data": {
      "text/html": [
       "<div>\n",
       "<style scoped>\n",
       "    .dataframe tbody tr th:only-of-type {\n",
       "        vertical-align: middle;\n",
       "    }\n",
       "\n",
       "    .dataframe tbody tr th {\n",
       "        vertical-align: top;\n",
       "    }\n",
       "\n",
       "    .dataframe thead th {\n",
       "        text-align: right;\n",
       "    }\n",
       "</style>\n",
       "<table border=\"1\" class=\"dataframe\">\n",
       "  <thead>\n",
       "    <tr style=\"text-align: right;\">\n",
       "      <th></th>\n",
       "      <th>Patient drchrono ID</th>\n",
       "      <th>Category</th>\n",
       "      <th>Status</th>\n",
       "      <th>Priority</th>\n",
       "      <th>Assigned To</th>\n",
       "      <th>Created on</th>\n",
       "      <th>Updated on</th>\n",
       "      <th>HC20 Status</th>\n",
       "      <th>HC20 Substatus</th>\n",
       "      <th>Last Appointment Date</th>\n",
       "    </tr>\n",
       "  </thead>\n",
       "  <tbody>\n",
       "    <tr>\n",
       "      <td>262</td>\n",
       "      <td>69026616</td>\n",
       "      <td>Referral</td>\n",
       "      <td>In Progress</td>\n",
       "      <td>20</td>\n",
       "      <td>aarreola</td>\n",
       "      <td>2017-10-13T13:49:15</td>\n",
       "      <td>2018-06-28T19:27:28</td>\n",
       "      <td>Enrolled</td>\n",
       "      <td>Scheduled</td>\n",
       "      <td>2018-05-17 16:00:00</td>\n",
       "    </tr>\n",
       "    <tr>\n",
       "      <td>368</td>\n",
       "      <td>69321260</td>\n",
       "      <td>Medical Records Request</td>\n",
       "      <td>On Hold</td>\n",
       "      <td>20</td>\n",
       "      <td>CareCoordinators</td>\n",
       "      <td>2017-11-30T16:25:15</td>\n",
       "      <td>2018-07-09T11:44:21</td>\n",
       "      <td>Enrolled</td>\n",
       "      <td>Appt completed</td>\n",
       "      <td>2018-06-01 18:00:00</td>\n",
       "    </tr>\n",
       "    <tr>\n",
       "      <td>377</td>\n",
       "      <td>68793552</td>\n",
       "      <td>Medical Records Request</td>\n",
       "      <td>On Hold</td>\n",
       "      <td>20</td>\n",
       "      <td>cmathews</td>\n",
       "      <td>2017-12-04T13:10:20</td>\n",
       "      <td>2018-06-25T16:08:44</td>\n",
       "      <td>Enrolled</td>\n",
       "      <td>Scheduled</td>\n",
       "      <td>2018-07-06 20:15:00</td>\n",
       "    </tr>\n",
       "    <tr>\n",
       "      <td>391</td>\n",
       "      <td>67917278</td>\n",
       "      <td>Medical Records Request</td>\n",
       "      <td>In Progress</td>\n",
       "      <td>20</td>\n",
       "      <td>suzztasharma</td>\n",
       "      <td>2017-12-06T14:17:21</td>\n",
       "      <td>2018-06-19T17:21:40</td>\n",
       "      <td>Enrolled</td>\n",
       "      <td>Scheduled</td>\n",
       "      <td>2018-06-08 19:15:00</td>\n",
       "    </tr>\n",
       "    <tr>\n",
       "      <td>427</td>\n",
       "      <td>70296028</td>\n",
       "      <td>Medical Records Request</td>\n",
       "      <td>In Progress</td>\n",
       "      <td>40</td>\n",
       "      <td>suzztasharma</td>\n",
       "      <td>2017-12-11T20:02:23</td>\n",
       "      <td>2018-06-08T17:41:18</td>\n",
       "      <td>Enrolled</td>\n",
       "      <td>Scheduled</td>\n",
       "      <td>2018-07-09 20:30:00</td>\n",
       "    </tr>\n",
       "  </tbody>\n",
       "</table>\n",
       "</div>"
      ],
      "text/plain": [
       "     Patient drchrono ID                 Category       Status  Priority  \\\n",
       "262             69026616                 Referral  In Progress        20   \n",
       "368             69321260  Medical Records Request      On Hold        20   \n",
       "377             68793552  Medical Records Request      On Hold        20   \n",
       "391             67917278  Medical Records Request  In Progress        20   \n",
       "427             70296028  Medical Records Request  In Progress        40   \n",
       "\n",
       "          Assigned To           Created on           Updated on HC20 Status  \\\n",
       "262          aarreola  2017-10-13T13:49:15  2018-06-28T19:27:28    Enrolled   \n",
       "368  CareCoordinators  2017-11-30T16:25:15  2018-07-09T11:44:21    Enrolled   \n",
       "377          cmathews  2017-12-04T13:10:20  2018-06-25T16:08:44    Enrolled   \n",
       "391      suzztasharma  2017-12-06T14:17:21  2018-06-19T17:21:40    Enrolled   \n",
       "427      suzztasharma  2017-12-11T20:02:23  2018-06-08T17:41:18    Enrolled   \n",
       "\n",
       "     HC20 Substatus Last Appointment Date  \n",
       "262       Scheduled   2018-05-17 16:00:00  \n",
       "368  Appt completed   2018-06-01 18:00:00  \n",
       "377       Scheduled   2018-07-06 20:15:00  \n",
       "391       Scheduled   2018-06-08 19:15:00  \n",
       "427       Scheduled   2018-07-09 20:30:00  "
      ]
     },
     "execution_count": 69,
     "metadata": {},
     "output_type": "execute_result"
    }
   ],
   "source": [
    "# Check for uncomplete task\n",
    "tasks_unfinished = tasks.loc[tasks['Status'] !='Complete']\n",
    "tasks_unfinished.head()"
   ]
  },
  {
   "cell_type": "code",
   "execution_count": 70,
   "metadata": {},
   "outputs": [
    {
     "data": {
      "text/plain": [
       "suzztasharma        198\n",
       "marlenegarcia       152\n",
       "gblandon            132\n",
       "CareCoordinators     95\n",
       "aarreola             83\n",
       "pvallejo             80\n",
       "darzate              68\n",
       "cmathews             10\n",
       "aalmanza              7\n",
       "kapostol              7\n",
       "ebenons               6\n",
       "HRubin                6\n",
       "Neilsolomon           5\n",
       "ggardner              4\n",
       "hanzaldua             4\n",
       "mduarte               4\n",
       "stinajero             4\n",
       "nsome                 3\n",
       "epopoca               3\n",
       "MOXXIadmin            3\n",
       "mariadperez           2\n",
       "DanaLewis             1\n",
       "hcolomer              1\n",
       "kelder                1\n",
       "egragnani             1\n",
       "mdavis07              1\n",
       "MyrnaGonzalez         1\n",
       "Name: Assigned To, dtype: int64"
      ]
     },
     "execution_count": 70,
     "metadata": {},
     "output_type": "execute_result"
    }
   ],
   "source": [
    "# Check who weren't complete the status they were assigned to\n",
    "tasks_unfinished['Assigned To'].value_counts()"
   ]
  },
  {
   "cell_type": "code",
   "execution_count": 71,
   "metadata": {},
   "outputs": [
    {
     "data": {
      "text/html": [
       "<div>\n",
       "<style scoped>\n",
       "    .dataframe tbody tr th:only-of-type {\n",
       "        vertical-align: middle;\n",
       "    }\n",
       "\n",
       "    .dataframe tbody tr th {\n",
       "        vertical-align: top;\n",
       "    }\n",
       "\n",
       "    .dataframe thead th {\n",
       "        text-align: right;\n",
       "    }\n",
       "</style>\n",
       "<table border=\"1\" class=\"dataframe\">\n",
       "  <thead>\n",
       "    <tr style=\"text-align: right;\">\n",
       "      <th></th>\n",
       "      <th>There are 7 care coordinators:</th>\n",
       "    </tr>\n",
       "  </thead>\n",
       "  <tbody>\n",
       "    <tr>\n",
       "      <td>0</td>\n",
       "      <td>Aarreola</td>\n",
       "    </tr>\n",
       "    <tr>\n",
       "      <td>1</td>\n",
       "      <td>Pvallego</td>\n",
       "    </tr>\n",
       "    <tr>\n",
       "      <td>2</td>\n",
       "      <td>marlenegarcia</td>\n",
       "    </tr>\n",
       "    <tr>\n",
       "      <td>3</td>\n",
       "      <td>suzztasharma</td>\n",
       "    </tr>\n",
       "    <tr>\n",
       "      <td>4</td>\n",
       "      <td>CareCoordinators</td>\n",
       "    </tr>\n",
       "    <tr>\n",
       "      <td>5</td>\n",
       "      <td>darzate</td>\n",
       "    </tr>\n",
       "    <tr>\n",
       "      <td>6</td>\n",
       "      <td>gblandon</td>\n",
       "    </tr>\n",
       "  </tbody>\n",
       "</table>\n",
       "</div>"
      ],
      "text/plain": [
       "  There are 7 care coordinators:\n",
       "0                       Aarreola\n",
       "1                       Pvallego\n",
       "2                  marlenegarcia\n",
       "3                   suzztasharma\n",
       "4               CareCoordinators\n",
       "5                        darzate\n",
       "6                       gblandon"
      ]
     },
     "execution_count": 71,
     "metadata": {},
     "output_type": "execute_result"
    }
   ],
   "source": [
    "# Name of Care Coordinators from the Care Coordinator Names data set\n",
    "CareCoordiantor_Names = pd.read_csv('Care Coordinator Names.csv')\n",
    "CareCoordiantor_Names"
   ]
  },
  {
   "cell_type": "markdown",
   "metadata": {},
   "source": [
    "##### Uncompleted Workload divided among Care Coordinators and the number of cases they are assigned to\n",
    "1. suzztasharma        198\n",
    "2. marlenegarcia       152\n",
    "3. gblandon            133\n",
    "4. CareCoordinators     95\n",
    "5. aarreola             83\n",
    "6. pvallejo             80\n",
    "7. darzate              68\n",
    "\n",
    "**** Suzztasharm has the large amount of uncompleted file, Darzate has the least uncomppleted file\n"
   ]
  },
  {
   "cell_type": "markdown",
   "metadata": {},
   "source": [
    "#### Completed tasks"
   ]
  },
  {
   "cell_type": "code",
   "execution_count": 72,
   "metadata": {},
   "outputs": [
    {
     "data": {
      "text/html": [
       "<div>\n",
       "<style scoped>\n",
       "    .dataframe tbody tr th:only-of-type {\n",
       "        vertical-align: middle;\n",
       "    }\n",
       "\n",
       "    .dataframe tbody tr th {\n",
       "        vertical-align: top;\n",
       "    }\n",
       "\n",
       "    .dataframe thead th {\n",
       "        text-align: right;\n",
       "    }\n",
       "</style>\n",
       "<table border=\"1\" class=\"dataframe\">\n",
       "  <thead>\n",
       "    <tr style=\"text-align: right;\">\n",
       "      <th></th>\n",
       "      <th>Patient drchrono ID</th>\n",
       "      <th>Category</th>\n",
       "      <th>Status</th>\n",
       "      <th>Priority</th>\n",
       "      <th>Assigned To</th>\n",
       "      <th>Created on</th>\n",
       "      <th>Updated on</th>\n",
       "      <th>HC20 Status</th>\n",
       "      <th>HC20 Substatus</th>\n",
       "      <th>Last Appointment Date</th>\n",
       "    </tr>\n",
       "  </thead>\n",
       "  <tbody>\n",
       "    <tr>\n",
       "      <td>1</td>\n",
       "      <td>59946176</td>\n",
       "      <td>Phone Call</td>\n",
       "      <td>Complete</td>\n",
       "      <td>20</td>\n",
       "      <td>MOXXIadmin</td>\n",
       "      <td>2016-08-25T20:07:00</td>\n",
       "      <td>2018-03-28T21:14:32</td>\n",
       "      <td>Enrolled</td>\n",
       "      <td>Scheduled</td>\n",
       "      <td>2018-06-20 21:30:00</td>\n",
       "    </tr>\n",
       "    <tr>\n",
       "      <td>2</td>\n",
       "      <td>59740292</td>\n",
       "      <td>Phone Call</td>\n",
       "      <td>Complete</td>\n",
       "      <td>20</td>\n",
       "      <td>MOXXIadmin</td>\n",
       "      <td>2016-08-29T18:23:10</td>\n",
       "      <td>2018-03-28T21:14:32</td>\n",
       "      <td>Disenrolled</td>\n",
       "      <td>Ineligible - insurance</td>\n",
       "      <td>2018-02-21 19:15:00</td>\n",
       "    </tr>\n",
       "    <tr>\n",
       "      <td>3</td>\n",
       "      <td>60121538</td>\n",
       "      <td>Phone Call</td>\n",
       "      <td>Complete</td>\n",
       "      <td>20</td>\n",
       "      <td>MOXXIadmin</td>\n",
       "      <td>2016-09-02T15:08:08</td>\n",
       "      <td>2018-03-28T21:14:32</td>\n",
       "      <td>Disenrolled</td>\n",
       "      <td>Ineligible - insurance</td>\n",
       "      <td>2018-03-13 16:55:00</td>\n",
       "    </tr>\n",
       "    <tr>\n",
       "      <td>5</td>\n",
       "      <td>60794436</td>\n",
       "      <td>Phone Call</td>\n",
       "      <td>Complete</td>\n",
       "      <td>20</td>\n",
       "      <td>MOXXIadmin</td>\n",
       "      <td>2016-09-14T18:30:16</td>\n",
       "      <td>2018-03-28T21:14:32</td>\n",
       "      <td>Closed lead</td>\n",
       "      <td>Ineligible - medical</td>\n",
       "      <td>1970-01-01 00:00:00</td>\n",
       "    </tr>\n",
       "    <tr>\n",
       "      <td>6</td>\n",
       "      <td>60121538</td>\n",
       "      <td>Specimen Collection</td>\n",
       "      <td>Complete</td>\n",
       "      <td>20</td>\n",
       "      <td>MOXXIadmin</td>\n",
       "      <td>2016-10-05T18:44:30</td>\n",
       "      <td>2018-03-28T21:14:32</td>\n",
       "      <td>Disenrolled</td>\n",
       "      <td>Ineligible - insurance</td>\n",
       "      <td>2018-03-13 16:55:00</td>\n",
       "    </tr>\n",
       "  </tbody>\n",
       "</table>\n",
       "</div>"
      ],
      "text/plain": [
       "   Patient drchrono ID             Category    Status  Priority Assigned To  \\\n",
       "1             59946176           Phone Call  Complete        20  MOXXIadmin   \n",
       "2             59740292           Phone Call  Complete        20  MOXXIadmin   \n",
       "3             60121538           Phone Call  Complete        20  MOXXIadmin   \n",
       "5             60794436           Phone Call  Complete        20  MOXXIadmin   \n",
       "6             60121538  Specimen Collection  Complete        20  MOXXIadmin   \n",
       "\n",
       "            Created on           Updated on  HC20 Status  \\\n",
       "1  2016-08-25T20:07:00  2018-03-28T21:14:32     Enrolled   \n",
       "2  2016-08-29T18:23:10  2018-03-28T21:14:32  Disenrolled   \n",
       "3  2016-09-02T15:08:08  2018-03-28T21:14:32  Disenrolled   \n",
       "5  2016-09-14T18:30:16  2018-03-28T21:14:32  Closed lead   \n",
       "6  2016-10-05T18:44:30  2018-03-28T21:14:32  Disenrolled   \n",
       "\n",
       "           HC20 Substatus Last Appointment Date  \n",
       "1               Scheduled   2018-06-20 21:30:00  \n",
       "2  Ineligible - insurance   2018-02-21 19:15:00  \n",
       "3  Ineligible - insurance   2018-03-13 16:55:00  \n",
       "5    Ineligible - medical   1970-01-01 00:00:00  \n",
       "6  Ineligible - insurance   2018-03-13 16:55:00  "
      ]
     },
     "execution_count": 72,
     "metadata": {},
     "output_type": "execute_result"
    }
   ],
   "source": [
    "# Check for the Completed tasks\n",
    "tasks_completed = tasks.loc[tasks['Status'] =='Complete']\n",
    "tasks_completed.head()"
   ]
  },
  {
   "cell_type": "code",
   "execution_count": 73,
   "metadata": {},
   "outputs": [
    {
     "data": {
      "text/plain": [
       "Referral                   866\n",
       "Phone Call                 592\n",
       "Pharmacy Request           242\n",
       "Medical Records Request    207\n",
       "Lab Results                197\n",
       "DME                        153\n",
       "Social Services             81\n",
       "Specimen Collection         56\n",
       "Supplies                    47\n",
       "Transportation              28\n",
       "Behavioral Health           25\n",
       "Name: Category, dtype: int64"
      ]
     },
     "execution_count": 73,
     "metadata": {},
     "output_type": "execute_result"
    }
   ],
   "source": [
    "# check to see how many tasks in the data set (11 categories of tasks)\n",
    "tasks_completed['Category'].value_counts()"
   ]
  },
  {
   "cell_type": "code",
   "execution_count": 15,
   "metadata": {},
   "outputs": [
    {
     "name": "stdout",
     "output_type": "stream",
     "text": [
      "<class 'pandas.core.frame.DataFrame'>\n",
      "Int64Index: 2494 entries, 1 to 3654\n",
      "Data columns (total 10 columns):\n",
      "Patient drchrono ID      2494 non-null int64\n",
      "Category                 2494 non-null object\n",
      "Status                   2494 non-null object\n",
      "Priority                 2494 non-null int64\n",
      "Assigned To              2494 non-null object\n",
      "Created on               2494 non-null object\n",
      "Updated on               2494 non-null object\n",
      "HC20 Status              2494 non-null object\n",
      "HC20 Substatus           2494 non-null object\n",
      "Last Appointment Date    2494 non-null object\n",
      "dtypes: int64(2), object(8)\n",
      "memory usage: 214.3+ KB\n"
     ]
    }
   ],
   "source": [
    "tasks_completed.info()"
   ]
  },
  {
   "cell_type": "code",
   "execution_count": 74,
   "metadata": {},
   "outputs": [
    {
     "name": "stderr",
     "output_type": "stream",
     "text": [
      "/Users/thoashook/opt/anaconda3/lib/python3.7/site-packages/ipykernel_launcher.py:2: SettingWithCopyWarning: \n",
      "A value is trying to be set on a copy of a slice from a DataFrame.\n",
      "Try using .loc[row_indexer,col_indexer] = value instead\n",
      "\n",
      "See the caveats in the documentation: http://pandas.pydata.org/pandas-docs/stable/user_guide/indexing.html#returning-a-view-versus-a-copy\n",
      "  \n",
      "/Users/thoashook/opt/anaconda3/lib/python3.7/site-packages/ipykernel_launcher.py:3: SettingWithCopyWarning: \n",
      "A value is trying to be set on a copy of a slice from a DataFrame.\n",
      "Try using .loc[row_indexer,col_indexer] = value instead\n",
      "\n",
      "See the caveats in the documentation: http://pandas.pydata.org/pandas-docs/stable/user_guide/indexing.html#returning-a-view-versus-a-copy\n",
      "  This is separate from the ipykernel package so we can avoid doing imports until\n"
     ]
    }
   ],
   "source": [
    "# convert to datetime column\n",
    "tasks_completed['Created on']=pd.to_datetime(tasks_completed['Created on'],format='%Y-%m-%d')\n",
    "tasks_completed['Updated on']=pd.to_datetime(tasks_completed['Updated on'],format='%Y-%m-%d')\n"
   ]
  },
  {
   "cell_type": "code",
   "execution_count": 75,
   "metadata": {},
   "outputs": [
    {
     "data": {
      "text/html": [
       "<div>\n",
       "<style scoped>\n",
       "    .dataframe tbody tr th:only-of-type {\n",
       "        vertical-align: middle;\n",
       "    }\n",
       "\n",
       "    .dataframe tbody tr th {\n",
       "        vertical-align: top;\n",
       "    }\n",
       "\n",
       "    .dataframe thead th {\n",
       "        text-align: right;\n",
       "    }\n",
       "</style>\n",
       "<table border=\"1\" class=\"dataframe\">\n",
       "  <thead>\n",
       "    <tr style=\"text-align: right;\">\n",
       "      <th></th>\n",
       "      <th>Patient drchrono ID</th>\n",
       "      <th>Category</th>\n",
       "      <th>Status</th>\n",
       "      <th>Priority</th>\n",
       "      <th>Assigned To</th>\n",
       "      <th>Created on</th>\n",
       "      <th>Updated on</th>\n",
       "      <th>HC20 Status</th>\n",
       "      <th>HC20 Substatus</th>\n",
       "      <th>Last Appointment Date</th>\n",
       "    </tr>\n",
       "  </thead>\n",
       "  <tbody>\n",
       "    <tr>\n",
       "      <td>1</td>\n",
       "      <td>59946176</td>\n",
       "      <td>Phone Call</td>\n",
       "      <td>Complete</td>\n",
       "      <td>20</td>\n",
       "      <td>MOXXIadmin</td>\n",
       "      <td>2016-08-25 20:07:00</td>\n",
       "      <td>2018-03-28 21:14:32</td>\n",
       "      <td>Enrolled</td>\n",
       "      <td>Scheduled</td>\n",
       "      <td>2018-06-20 21:30:00</td>\n",
       "    </tr>\n",
       "    <tr>\n",
       "      <td>2</td>\n",
       "      <td>59740292</td>\n",
       "      <td>Phone Call</td>\n",
       "      <td>Complete</td>\n",
       "      <td>20</td>\n",
       "      <td>MOXXIadmin</td>\n",
       "      <td>2016-08-29 18:23:10</td>\n",
       "      <td>2018-03-28 21:14:32</td>\n",
       "      <td>Disenrolled</td>\n",
       "      <td>Ineligible - insurance</td>\n",
       "      <td>2018-02-21 19:15:00</td>\n",
       "    </tr>\n",
       "    <tr>\n",
       "      <td>3</td>\n",
       "      <td>60121538</td>\n",
       "      <td>Phone Call</td>\n",
       "      <td>Complete</td>\n",
       "      <td>20</td>\n",
       "      <td>MOXXIadmin</td>\n",
       "      <td>2016-09-02 15:08:08</td>\n",
       "      <td>2018-03-28 21:14:32</td>\n",
       "      <td>Disenrolled</td>\n",
       "      <td>Ineligible - insurance</td>\n",
       "      <td>2018-03-13 16:55:00</td>\n",
       "    </tr>\n",
       "    <tr>\n",
       "      <td>5</td>\n",
       "      <td>60794436</td>\n",
       "      <td>Phone Call</td>\n",
       "      <td>Complete</td>\n",
       "      <td>20</td>\n",
       "      <td>MOXXIadmin</td>\n",
       "      <td>2016-09-14 18:30:16</td>\n",
       "      <td>2018-03-28 21:14:32</td>\n",
       "      <td>Closed lead</td>\n",
       "      <td>Ineligible - medical</td>\n",
       "      <td>1970-01-01 00:00:00</td>\n",
       "    </tr>\n",
       "    <tr>\n",
       "      <td>6</td>\n",
       "      <td>60121538</td>\n",
       "      <td>Specimen Collection</td>\n",
       "      <td>Complete</td>\n",
       "      <td>20</td>\n",
       "      <td>MOXXIadmin</td>\n",
       "      <td>2016-10-05 18:44:30</td>\n",
       "      <td>2018-03-28 21:14:32</td>\n",
       "      <td>Disenrolled</td>\n",
       "      <td>Ineligible - insurance</td>\n",
       "      <td>2018-03-13 16:55:00</td>\n",
       "    </tr>\n",
       "  </tbody>\n",
       "</table>\n",
       "</div>"
      ],
      "text/plain": [
       "   Patient drchrono ID             Category    Status  Priority Assigned To  \\\n",
       "1             59946176           Phone Call  Complete        20  MOXXIadmin   \n",
       "2             59740292           Phone Call  Complete        20  MOXXIadmin   \n",
       "3             60121538           Phone Call  Complete        20  MOXXIadmin   \n",
       "5             60794436           Phone Call  Complete        20  MOXXIadmin   \n",
       "6             60121538  Specimen Collection  Complete        20  MOXXIadmin   \n",
       "\n",
       "           Created on          Updated on  HC20 Status  \\\n",
       "1 2016-08-25 20:07:00 2018-03-28 21:14:32     Enrolled   \n",
       "2 2016-08-29 18:23:10 2018-03-28 21:14:32  Disenrolled   \n",
       "3 2016-09-02 15:08:08 2018-03-28 21:14:32  Disenrolled   \n",
       "5 2016-09-14 18:30:16 2018-03-28 21:14:32  Closed lead   \n",
       "6 2016-10-05 18:44:30 2018-03-28 21:14:32  Disenrolled   \n",
       "\n",
       "           HC20 Substatus Last Appointment Date  \n",
       "1               Scheduled   2018-06-20 21:30:00  \n",
       "2  Ineligible - insurance   2018-02-21 19:15:00  \n",
       "3  Ineligible - insurance   2018-03-13 16:55:00  \n",
       "5    Ineligible - medical   1970-01-01 00:00:00  \n",
       "6  Ineligible - insurance   2018-03-13 16:55:00  "
      ]
     },
     "execution_count": 75,
     "metadata": {},
     "output_type": "execute_result"
    }
   ],
   "source": [
    "tasks_completed.head()"
   ]
  },
  {
   "cell_type": "code",
   "execution_count": 27,
   "metadata": {},
   "outputs": [
    {
     "data": {
      "text/html": [
       "<div>\n",
       "<style scoped>\n",
       "    .dataframe tbody tr th:only-of-type {\n",
       "        vertical-align: middle;\n",
       "    }\n",
       "\n",
       "    .dataframe tbody tr th {\n",
       "        vertical-align: top;\n",
       "    }\n",
       "\n",
       "    .dataframe thead th {\n",
       "        text-align: right;\n",
       "    }\n",
       "</style>\n",
       "<table border=\"1\" class=\"dataframe\">\n",
       "  <thead>\n",
       "    <tr style=\"text-align: right;\">\n",
       "      <th></th>\n",
       "      <th>Patient drchrono ID</th>\n",
       "      <th>Category</th>\n",
       "      <th>Status</th>\n",
       "      <th>Priority</th>\n",
       "      <th>Assigned To</th>\n",
       "      <th>Created on</th>\n",
       "      <th>Updated on</th>\n",
       "      <th>HC20 Status</th>\n",
       "      <th>HC20 Substatus</th>\n",
       "      <th>Last Appointment Date</th>\n",
       "      <th>duration</th>\n",
       "    </tr>\n",
       "  </thead>\n",
       "  <tbody>\n",
       "    <tr>\n",
       "      <td>563</td>\n",
       "      <td>65069468</td>\n",
       "      <td>Phone Call</td>\n",
       "      <td>Complete</td>\n",
       "      <td>20</td>\n",
       "      <td>MOXXIadmin</td>\n",
       "      <td>2018-01-02 11:22:26</td>\n",
       "      <td>2018-03-28 21:15:02</td>\n",
       "      <td>Disenrolled</td>\n",
       "      <td>Ineligible - insurance</td>\n",
       "      <td>2018-04-04 19:50:00</td>\n",
       "      <td>85 days 09:52:36</td>\n",
       "    </tr>\n",
       "    <tr>\n",
       "      <td>565</td>\n",
       "      <td>62620150</td>\n",
       "      <td>DME</td>\n",
       "      <td>Complete</td>\n",
       "      <td>20</td>\n",
       "      <td>MOXXIadmin</td>\n",
       "      <td>2018-01-02 15:34:46</td>\n",
       "      <td>2018-05-30 18:59:05</td>\n",
       "      <td>Enrolled</td>\n",
       "      <td>Appt completed</td>\n",
       "      <td>2018-06-22 16:00:00</td>\n",
       "      <td>148 days 03:24:19</td>\n",
       "    </tr>\n",
       "    <tr>\n",
       "      <td>567</td>\n",
       "      <td>63200518</td>\n",
       "      <td>Referral</td>\n",
       "      <td>Complete</td>\n",
       "      <td>20</td>\n",
       "      <td>gblandon</td>\n",
       "      <td>2018-01-02 18:06:09</td>\n",
       "      <td>2018-03-28 21:15:02</td>\n",
       "      <td>Enrolled</td>\n",
       "      <td>Scheduled</td>\n",
       "      <td>2018-06-20 18:45:00</td>\n",
       "      <td>85 days 03:08:53</td>\n",
       "    </tr>\n",
       "    <tr>\n",
       "      <td>568</td>\n",
       "      <td>63515612</td>\n",
       "      <td>Phone Call</td>\n",
       "      <td>Complete</td>\n",
       "      <td>20</td>\n",
       "      <td>MOXXIadmin</td>\n",
       "      <td>2018-01-03 13:33:59</td>\n",
       "      <td>2018-03-28 21:15:02</td>\n",
       "      <td>Enrolled</td>\n",
       "      <td>Scheduled</td>\n",
       "      <td>2018-07-02 22:50:00</td>\n",
       "      <td>84 days 07:41:03</td>\n",
       "    </tr>\n",
       "    <tr>\n",
       "      <td>569</td>\n",
       "      <td>70255162</td>\n",
       "      <td>Phone Call</td>\n",
       "      <td>Complete</td>\n",
       "      <td>20</td>\n",
       "      <td>MOXXIadmin</td>\n",
       "      <td>2018-01-03 17:32:52</td>\n",
       "      <td>2018-03-28 21:15:02</td>\n",
       "      <td>Enrolled</td>\n",
       "      <td>Scheduled</td>\n",
       "      <td>2018-06-28 16:30:00</td>\n",
       "      <td>84 days 03:42:10</td>\n",
       "    </tr>\n",
       "  </tbody>\n",
       "</table>\n",
       "</div>"
      ],
      "text/plain": [
       "     Patient drchrono ID    Category    Status  Priority Assigned To  \\\n",
       "563             65069468  Phone Call  Complete        20  MOXXIadmin   \n",
       "565             62620150         DME  Complete        20  MOXXIadmin   \n",
       "567             63200518    Referral  Complete        20    gblandon   \n",
       "568             63515612  Phone Call  Complete        20  MOXXIadmin   \n",
       "569             70255162  Phone Call  Complete        20  MOXXIadmin   \n",
       "\n",
       "             Created on          Updated on  HC20 Status  \\\n",
       "563 2018-01-02 11:22:26 2018-03-28 21:15:02  Disenrolled   \n",
       "565 2018-01-02 15:34:46 2018-05-30 18:59:05     Enrolled   \n",
       "567 2018-01-02 18:06:09 2018-03-28 21:15:02     Enrolled   \n",
       "568 2018-01-03 13:33:59 2018-03-28 21:15:02     Enrolled   \n",
       "569 2018-01-03 17:32:52 2018-03-28 21:15:02     Enrolled   \n",
       "\n",
       "             HC20 Substatus Last Appointment Date          duration  \n",
       "563  Ineligible - insurance   2018-04-04 19:50:00  85 days 09:52:36  \n",
       "565          Appt completed   2018-06-22 16:00:00 148 days 03:24:19  \n",
       "567               Scheduled   2018-06-20 18:45:00  85 days 03:08:53  \n",
       "568               Scheduled   2018-07-02 22:50:00  84 days 07:41:03  \n",
       "569               Scheduled   2018-06-28 16:30:00  84 days 03:42:10  "
      ]
     },
     "execution_count": 27,
     "metadata": {},
     "output_type": "execute_result"
    }
   ],
   "source": [
    "tasked = tasks_completed[(tasks_completed['Created on'] > '2018-01-01 01:00:00') & (tasks_completed['Created on'] <= '2018-12-31 23:00:00')]\n",
    "tasked.head()"
   ]
  },
  {
   "cell_type": "code",
   "execution_count": 28,
   "metadata": {},
   "outputs": [
    {
     "name": "stderr",
     "output_type": "stream",
     "text": [
      "/Users/thoashook/opt/anaconda3/lib/python3.7/site-packages/ipykernel_launcher.py:1: SettingWithCopyWarning: \n",
      "A value is trying to be set on a copy of a slice from a DataFrame.\n",
      "Try using .loc[row_indexer,col_indexer] = value instead\n",
      "\n",
      "See the caveats in the documentation: http://pandas.pydata.org/pandas-docs/stable/user_guide/indexing.html#returning-a-view-versus-a-copy\n",
      "  \"\"\"Entry point for launching an IPython kernel.\n"
     ]
    }
   ],
   "source": [
    "tasked['duration']= tasks_completed['Updated on']- tasks_completed['Created on']"
   ]
  },
  {
   "cell_type": "code",
   "execution_count": 46,
   "metadata": {},
   "outputs": [
    {
     "data": {
      "text/plain": [
       "563     85 days 09:52:36\n",
       "565    148 days 03:24:19\n",
       "567     85 days 03:08:53\n",
       "568     84 days 07:41:03\n",
       "569     84 days 03:42:10\n",
       "              ...       \n",
       "3618     0 days 00:55:39\n",
       "3622     0 days 23:58:06\n",
       "3624     0 days 21:21:22\n",
       "3629     0 days 04:04:20\n",
       "3654     0 days 00:59:24\n",
       "Name: duration, Length: 2061, dtype: timedelta64[ns]"
      ]
     },
     "execution_count": 46,
     "metadata": {},
     "output_type": "execute_result"
    }
   ],
   "source": [
    "tasked['duration']"
   ]
  },
  {
   "cell_type": "code",
   "execution_count": 56,
   "metadata": {},
   "outputs": [
    {
     "name": "stderr",
     "output_type": "stream",
     "text": [
      "/Users/thoashook/opt/anaconda3/lib/python3.7/site-packages/ipykernel_launcher.py:1: SettingWithCopyWarning: \n",
      "A value is trying to be set on a copy of a slice from a DataFrame.\n",
      "Try using .loc[row_indexer,col_indexer] = value instead\n",
      "\n",
      "See the caveats in the documentation: http://pandas.pydata.org/pandas-docs/stable/user_guide/indexing.html#returning-a-view-versus-a-copy\n",
      "  \"\"\"Entry point for launching an IPython kernel.\n"
     ]
    }
   ],
   "source": [
    "tasked['duration']=tasked['duration'].dt.days.astype('int16')"
   ]
  },
  {
   "cell_type": "code",
   "execution_count": 58,
   "metadata": {},
   "outputs": [],
   "source": [
    "avg_complete_cat_duration = tasked[['Category','duration']]"
   ]
  },
  {
   "cell_type": "code",
   "execution_count": 59,
   "metadata": {},
   "outputs": [
    {
     "data": {
      "text/html": [
       "<div>\n",
       "<style scoped>\n",
       "    .dataframe tbody tr th:only-of-type {\n",
       "        vertical-align: middle;\n",
       "    }\n",
       "\n",
       "    .dataframe tbody tr th {\n",
       "        vertical-align: top;\n",
       "    }\n",
       "\n",
       "    .dataframe thead th {\n",
       "        text-align: right;\n",
       "    }\n",
       "</style>\n",
       "<table border=\"1\" class=\"dataframe\">\n",
       "  <thead>\n",
       "    <tr style=\"text-align: right;\">\n",
       "      <th></th>\n",
       "      <th>duration</th>\n",
       "    </tr>\n",
       "    <tr>\n",
       "      <th>Category</th>\n",
       "      <th></th>\n",
       "    </tr>\n",
       "  </thead>\n",
       "  <tbody>\n",
       "    <tr>\n",
       "      <td>Behavioral Health</td>\n",
       "      <td>40.583333</td>\n",
       "    </tr>\n",
       "    <tr>\n",
       "      <td>DME</td>\n",
       "      <td>51.369128</td>\n",
       "    </tr>\n",
       "    <tr>\n",
       "      <td>Lab Results</td>\n",
       "      <td>12.345178</td>\n",
       "    </tr>\n",
       "    <tr>\n",
       "      <td>Medical Records Request</td>\n",
       "      <td>35.236559</td>\n",
       "    </tr>\n",
       "    <tr>\n",
       "      <td>Pharmacy Request</td>\n",
       "      <td>13.233333</td>\n",
       "    </tr>\n",
       "    <tr>\n",
       "      <td>Phone Call</td>\n",
       "      <td>26.100000</td>\n",
       "    </tr>\n",
       "    <tr>\n",
       "      <td>Referral</td>\n",
       "      <td>48.578279</td>\n",
       "    </tr>\n",
       "    <tr>\n",
       "      <td>Social Services</td>\n",
       "      <td>32.402778</td>\n",
       "    </tr>\n",
       "    <tr>\n",
       "      <td>Specimen Collection</td>\n",
       "      <td>41.193548</td>\n",
       "    </tr>\n",
       "    <tr>\n",
       "      <td>Supplies</td>\n",
       "      <td>26.911111</td>\n",
       "    </tr>\n",
       "    <tr>\n",
       "      <td>Transportation</td>\n",
       "      <td>27.250000</td>\n",
       "    </tr>\n",
       "  </tbody>\n",
       "</table>\n",
       "</div>"
      ],
      "text/plain": [
       "                          duration\n",
       "Category                          \n",
       "Behavioral Health        40.583333\n",
       "DME                      51.369128\n",
       "Lab Results              12.345178\n",
       "Medical Records Request  35.236559\n",
       "Pharmacy Request         13.233333\n",
       "Phone Call               26.100000\n",
       "Referral                 48.578279\n",
       "Social Services          32.402778\n",
       "Specimen Collection      41.193548\n",
       "Supplies                 26.911111\n",
       "Transportation           27.250000"
      ]
     },
     "execution_count": 59,
     "metadata": {},
     "output_type": "execute_result"
    }
   ],
   "source": [
    "avg_complete_cat_duration.groupby('Category').mean()"
   ]
  },
  {
   "cell_type": "code",
   "execution_count": 55,
   "metadata": {},
   "outputs": [
    {
     "name": "stdout",
     "output_type": "stream",
     "text": [
      "<class 'pandas.core.frame.DataFrame'>\n",
      "Int64Index: 2061 entries, 563 to 3654\n",
      "Data columns (total 11 columns):\n",
      "Patient drchrono ID      2061 non-null int64\n",
      "Category                 2061 non-null object\n",
      "Status                   2061 non-null object\n",
      "Priority                 2061 non-null int64\n",
      "Assigned To              2061 non-null object\n",
      "Created on               2061 non-null datetime64[ns]\n",
      "Updated on               2061 non-null datetime64[ns]\n",
      "HC20 Status              2061 non-null object\n",
      "HC20 Substatus           2061 non-null object\n",
      "Last Appointment Date    2061 non-null object\n",
      "duration                 2061 non-null timedelta64[ns]\n",
      "dtypes: datetime64[ns](2), int64(2), object(6), timedelta64[ns](1)\n",
      "memory usage: 193.2+ KB\n"
     ]
    }
   ],
   "source": [
    "tasked.info()"
   ]
  },
  {
   "cell_type": "code",
   "execution_count": 47,
   "metadata": {},
   "outputs": [
    {
     "data": {
      "text/plain": [
       "[3, 4, 5]"
      ]
     },
     "execution_count": 47,
     "metadata": {},
     "output_type": "execute_result"
    }
   ],
   "source": [
    "y = [3,4,5,6,7,8]\n",
    "y[:3]"
   ]
  },
  {
   "cell_type": "code",
   "execution_count": null,
   "metadata": {},
   "outputs": [],
   "source": [
    "# Convert UTC datetime format to US/Pacific datetime format\n",
    "#import datetime\n",
    "#for x in ['Created on', 'Updated on','Last Appointment Date']:\n",
    "    #if x in tasks.columns:\n",
    "        #tasks[x] = pd.to_datetime(tasks[x], format=\"%Y-%m-%d\").dt.floor(\"d\")"
   ]
  },
  {
   "cell_type": "code",
   "execution_count": null,
   "metadata": {},
   "outputs": [],
   "source": [
    "# Convert Date to a datetime column\n",
    "#tasks_completed['Created on'] = pd.to_datetime(tasks_completed['Created on'], format='%d/%m/%y')\n",
    "#tasks_completed['Updated on'] = pd.to_datetime(tasks_completed['Updated on'], format='%d/%m/%y')"
   ]
  },
  {
   "cell_type": "code",
   "execution_count": null,
   "metadata": {},
   "outputs": [],
   "source": [
    "#tasks_completed.groupby(['Category','Duration']).sum()"
   ]
  },
  {
   "cell_type": "code",
   "execution_count": null,
   "metadata": {},
   "outputs": [],
   "source": [
    "#tasks_completed['Duration']=tasks_completed['Duration'].map(lambda x: str(x)[:-4])\n",
    "#tasks_completed['Duration']"
   ]
  },
  {
   "cell_type": "code",
   "execution_count": null,
   "metadata": {
    "scrolled": true
   },
   "outputs": [],
   "source": [
    "#cat_dur = tasks_completed.groupby(['Category']).agg({'Duration':['mean']})\n"
   ]
  },
  {
   "cell_type": "code",
   "execution_count": null,
   "metadata": {},
   "outputs": [],
   "source": []
  }
 ],
 "metadata": {
  "kernelspec": {
   "display_name": "Python 3",
   "language": "python",
   "name": "python3"
  },
  "language_info": {
   "codemirror_mode": {
    "name": "ipython",
    "version": 3
   },
   "file_extension": ".py",
   "mimetype": "text/x-python",
   "name": "python",
   "nbconvert_exporter": "python",
   "pygments_lexer": "ipython3",
   "version": "3.7.4"
  }
 },
 "nbformat": 4,
 "nbformat_minor": 2
}
